{
 "cells": [
  {
   "cell_type": "code",
   "execution_count": null,
   "metadata": {},
   "outputs": [],
   "source": [
    "# also for visualizarion\n",
    "# sudo apt install libcanberra-gtk-module libcanberra-gtk3-modul\n",
    "\n",
    "# !conda install -c conda-forge ipywidgets\n",
    "# !pip install -q matplotlib\n",
    "# !pip install -q seaborn\n",
    "# !pip install -q plotly"
   ]
  },
  {
   "cell_type": "code",
   "execution_count": 1,
   "metadata": {},
   "outputs": [],
   "source": [
    "import qiime2 as q2\n",
    "# !qiime info\n",
    "%matplotlib inline "
   ]
  },
  {
   "cell_type": "code",
   "execution_count": null,
   "metadata": {},
   "outputs": [],
   "source": [
    "#Make a directory for the tutorial data and download from the qiime? website\n",
    "!mkdir emp-single-end-sequences\n",
    "!wget -q -O \"data/sample-metadata.tsv\" \"https://data.qiime2.org/2019.7/tutorials/moving-pictures/sample_metadata.tsv\"\n",
    "!wget -q -O \"emp-single-end-sequences/sequences.fastq.gz\" \"https://data.qiime2.org/2019.7/tutorials/moving-pictures/emp-single-end-sequences/sequences.fastq.gz\" \n",
    "!wget -q -O \"emp-single-end-sequences/barcodes.fastq.gz\" \"https://data.qiime2.org/2019.7/tutorials/moving-pictures/emp-single-end-sequences/barcodes.fastq.gz\""
   ]
  },
  {
   "cell_type": "code",
   "execution_count": null,
   "metadata": {},
   "outputs": [
    {
     "name": "stdout",
     "output_type": "stream",
     "text": [
      "\u001b[32mImported emp-single-end-sequences as EMPSingleEndDirFmt to output/emp-single-end-sequences.qza\u001b[0m\n",
      "\u001b[0m"
     ]
    }
   ],
   "source": [
    "#import the fastą files into a QIIME2 artifact\n",
    "!mkdir output/\n",
    "!qiime tools import \\\n",
    "\t--type EMPSingleEndSequences \\\n",
    "\t--input-path emp-single-end-sequences \\\n",
    "\t--output-path output/emp-single-end-sequences.qza"
   ]
  },
  {
   "cell_type": "code",
   "execution_count": 9,
   "metadata": {},
   "outputs": [
    {
     "name": "stdout",
     "output_type": "stream",
     "text": [
      "\u001b[32mSaved SampleData[SequencesWithQuality] to: output/demux.qza\u001b[0m\n",
      "\u001b[32mSaved ErrorCorrectionDetails to: demux/error_correction_details.qza\u001b[0m\n",
      "\u001b[0m"
     ]
    }
   ],
   "source": [
    "# Demultiplex your sequences\n",
    "!qiime demux emp-single \\\n",
    "\t--i-seqs output/emp-single-end-sequences.qza \\\n",
    "\t--m-barcodes-file data/sample-metadata.tsv \\\n",
    "\t--m-barcodes-column barcode-sequence \\\n",
    "\t--o-per-sample-sequences output/demux.qza \\\n",
    "\t--output-dir demux"
   ]
  },
  {
   "cell_type": "code",
   "execution_count": 10,
   "metadata": {},
   "outputs": [
    {
     "name": "stdout",
     "output_type": "stream",
     "text": [
      "\u001b[32mSaved Visualization to: output/demux.qzv\u001b[0m\n",
      "\u001b[0m"
     ]
    }
   ],
   "source": [
    "##change your qza file into a .qzv file so you can view your QC stats on your demutliplexing\n",
    "!qiime demux summarize \\\n",
    "\t--i-data output/demux.qza \\\n",
    "\t--o-visualization output/demux.qzv"
   ]
  },
  {
   "cell_type": "code",
   "execution_count": null,
   "metadata": {},
   "outputs": [
    {
     "name": "stdout",
     "output_type": "stream",
     "text": [
      "Press the 'q' key, Control-C, or Control-D to quit. This view may no longer be accessible or work correctly after quitting.Opening in existing browser session.\n",
      "\n",
      "Press the 'q' key, Control-C, or Control-D to quit. This view may no longer be accessible or work correctly after quitting."
     ]
    }
   ],
   "source": [
    "##Use the q2 module to view your .qzv file\n",
    "# from qiime2 import Visualization\n",
    "# Visualization.load('output/demux.qzv') # not working\n",
    "\n",
    "# Visualize the output\n",
    "!qiime tools view output/demux.qzv"
   ]
  }
 ],
 "metadata": {
  "kernelspec": {
   "display_name": "qiime2-amplicon-2024.10",
   "language": "python",
   "name": "python3"
  },
  "language_info": {
   "codemirror_mode": {
    "name": "ipython",
    "version": 3
   },
   "file_extension": ".py",
   "mimetype": "text/x-python",
   "name": "python",
   "nbconvert_exporter": "python",
   "pygments_lexer": "ipython3",
   "version": "3.10.14"
  }
 },
 "nbformat": 4,
 "nbformat_minor": 2
}
